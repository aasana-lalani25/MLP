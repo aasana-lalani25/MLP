{
  "metadata": {
    "kernelspec": {
      "name": "python",
      "display_name": "Python (Pyodide)",
      "language": "python"
    },
    "language_info": {
      "codemirror_mode": {
        "name": "python",
        "version": 3
      },
      "file_extension": ".py",
      "mimetype": "text/x-python",
      "name": "python",
      "nbconvert_exporter": "python",
      "pygments_lexer": "ipython3",
      "version": "3.8"
    }
  },
  "nbformat_minor": 5,
  "nbformat": 4,
  "cells": [
    {
      "id": "6053143b-036a-436e-b8bd-41d31b2ab6f1",
      "cell_type": "code",
      "source": "from numpy import *\n\na = array([[1,2,3,4],[5,6,7,8]])\n\nprint(a)",
      "metadata": {
        "trusted": true
      },
      "outputs": [
        {
          "name": "stdout",
          "text": "[[1 2 3 4]\n [5 6 7 8]]\n",
          "output_type": "stream"
        }
      ],
      "execution_count": 2
    },
    {
      "id": "de0ed7b9-d4e2-451e-b493-786e3a5d8b90",
      "cell_type": "code",
      "source": "# shape : It is used find the dimensional shape of the\n\narray\n\nprint(a.shape)",
      "metadata": {
        "trusted": true
      },
      "outputs": [
        {
          "name": "stdout",
          "text": "(2, 4)\n",
          "output_type": "stream"
        }
      ],
      "execution_count": 3
    },
    {
      "id": "b3b3f153-8a93-4318-b63f-05991df96c74",
      "cell_type": "code",
      "source": "#ndim : returns an integer that tells us how many dimensions the array have \n\nprint(\"ndim\",a.ndim)",
      "metadata": {
        "trusted": true
      },
      "outputs": [
        {
          "name": "stdout",
          "text": "ndim 2\n",
          "output_type": "stream"
        }
      ],
      "execution_count": 4
    },
    {
      "id": "b34d68f5-6e27-4398-b021-37031a48b7d9",
      "cell_type": "code",
      "source": "#size : return the size of the array\n\nprint(\"Size : \",a.size)",
      "metadata": {
        "trusted": true
      },
      "outputs": [
        {
          "name": "stdout",
          "text": "Size :  8\n",
          "output_type": "stream"
        }
      ],
      "execution_count": 5
    },
    {
      "id": "d7060084-a546-4035-b69b-bbc66e4c4543",
      "cell_type": "code",
      "source": "#dtype : return the datatype of the array\n\nprint(\"datatype : \",a.dtype)",
      "metadata": {
        "trusted": true
      },
      "outputs": [
        {
          "name": "stdout",
          "text": "datatype :  int32\n",
          "output_type": "stream"
        }
      ],
      "execution_count": 6
    },
    {
      "id": "7da2a760-3e0a-4584-8839-843d8dcd4ec8",
      "cell_type": "code",
      "source": "#itemsize : The element size of this data-type object\nprint(a.itemsize)",
      "metadata": {
        "trusted": true
      },
      "outputs": [
        {
          "name": "stdout",
          "text": "4\n",
          "output_type": "stream"
        }
      ],
      "execution_count": 7
    },
    {
      "id": "7be8bb10-a5bb-45ee-a132-009d71575b38",
      "cell_type": "code",
      "source": "#data :\nprint(a.data)",
      "metadata": {
        "trusted": true
      },
      "outputs": [
        {
          "name": "stdout",
          "text": "<memory at 0x345b098>\n",
          "output_type": "stream"
        }
      ],
      "execution_count": 8
    },
    {
      "id": "7f437a0a-3474-43fa-a741-26907168d2d3",
      "cell_type": "code",
      "source": "m1 = array([[1,2],[3,4]])\n\nm2 = array([[5,6],[7,8]])\n\nprint(m1)\n\nprint(m2)",
      "metadata": {
        "trusted": true
      },
      "outputs": [
        {
          "name": "stdout",
          "text": "[[1 2]\n [3 4]]\n[[5 6]\n [7 8]]\n",
          "output_type": "stream"
        }
      ],
      "execution_count": 9
    },
    {
      "id": "a9c4ed97-8e39-48fd-8ec5-aab4d85aa302",
      "cell_type": "code",
      "source": "#dot : return the multiplication of the matrix\n\nmul = dot(m1,m2)\n\nprint(mul)",
      "metadata": {
        "trusted": true
      },
      "outputs": [
        {
          "name": "stdout",
          "text": "[[19 22]\n [43 50]]\n",
          "output_type": "stream"
        }
      ],
      "execution_count": 10
    },
    {
      "id": "9f86b061-da33-4739-85da-4ef989bdf6bc",
      "cell_type": "code",
      "source": "#multiply : it only multiply the elements\n\nmult = multiply(m1,m2) #only multiplication\n\nprint(mult)",
      "metadata": {
        "trusted": true
      },
      "outputs": [
        {
          "name": "stdout",
          "text": "[[ 5 12]\n [21 32]]\n",
          "output_type": "stream"
        }
      ],
      "execution_count": 11
    },
    {
      "id": "8924d112-d23a-4aaa-87ef-997c23ac8e1d",
      "cell_type": "code",
      "source": "#subtract : will subtract the matrix\n\nsubtrac = subtract(m2,m1)\nprint(subtrac)",
      "metadata": {
        "trusted": true
      },
      "outputs": [
        {
          "name": "stdout",
          "text": "[[4 4]\n [4 4]]\n",
          "output_type": "stream"
        }
      ],
      "execution_count": 12
    },
    {
      "id": "24033eb2-f241-497f-8f9f-879f9996b5b6",
      "cell_type": "code",
      "source": "#add : will add the two or more matrix\n\naddM = add(m1,m2)\n\nprint(addM)",
      "metadata": {
        "trusted": true
      },
      "outputs": [
        {
          "name": "stdout",
          "text": "[[ 6  8]\n [10 12]]\n",
          "output_type": "stream"
        }
      ],
      "execution_count": 13
    },
    {
      "id": "c7f92e4d-f940-4028-8182-45aa961978b9",
      "cell_type": "code",
      "source": "b = array([4,5,56,7,8,9,12,45])\n\n#starting from the 2nd element to the end\n\nprint(b[2:])",
      "metadata": {
        "trusted": true
      },
      "outputs": [
        {
          "name": "stdout",
          "text": "[56  7  8  9 12 45]\n",
          "output_type": "stream"
        }
      ],
      "execution_count": 14
    },
    {
      "id": "b0a8ff03-49c0-4780-a7be-21adcb273792",
      "cell_type": "code",
      "source": "#starting from first element to the 2-1 element\n\nprint(b[:2])",
      "metadata": {
        "trusted": true
      },
      "outputs": [
        {
          "name": "stdout",
          "text": "[4 5]\n",
          "output_type": "stream"
        }
      ],
      "execution_count": 15
    },
    {
      "id": "3f62cfd5-363a-4910-8289-90bb7b22eb17",
      "cell_type": "code",
      "source": "c = array([1,2,3,4,5,6,7,8,9])\n#reshape : shape the array according to our choice\n\nprint(c.reshape(3,3))",
      "metadata": {
        "trusted": true
      },
      "outputs": [
        {
          "name": "stdout",
          "text": "[[1 2 3]\n [4 5 6]\n [7 8 9]]\n",
          "output_type": "stream"
        }
      ],
      "execution_count": 16
    },
    {
      "id": "ec05ff7e-711d-45d0-a321-150cb81b59c0",
      "cell_type": "code",
      "source": "#max = maximum element from the array\n\nprint(c.max())",
      "metadata": {
        "trusted": true
      },
      "outputs": [
        {
          "name": "stdout",
          "text": "9\n",
          "output_type": "stream"
        }
      ],
      "execution_count": 17
    },
    {
      "id": "ccd7278f-c4cb-47a3-9f31-1fd29e978c08",
      "cell_type": "code",
      "source": "#min : minimum element from the array\n\nprint(c.min())",
      "metadata": {
        "trusted": true
      },
      "outputs": [
        {
          "name": "stdout",
          "text": "1\n",
          "output_type": "stream"
        }
      ],
      "execution_count": 18
    },
    {
      "id": "9d0f3d0e-bcba-498c-82e9-0da5cd3eb5ba",
      "cell_type": "code",
      "source": "#axis=1 means row wise maximum\n\nre = c.reshape(3,3)\n\nprint(\"Max in row is : \",re.max(axis=1))",
      "metadata": {
        "trusted": true
      },
      "outputs": [
        {
          "name": "stdout",
          "text": "Max in row is :  [3 6 9]\n",
          "output_type": "stream"
        }
      ],
      "execution_count": 19
    },
    {
      "id": "6a666071-a9da-403c-93c6-6a60a661b114",
      "cell_type": "code",
      "source": "#axis=0 means column wise minimum\n\nprint(\"Min in row is : \",re.min(axis=0))",
      "metadata": {
        "trusted": true
      },
      "outputs": [
        {
          "name": "stdout",
          "text": "Min in row is :  [1 2 3]\n",
          "output_type": "stream"
        }
      ],
      "execution_count": 20
    },
    {
      "id": "d241a6f4-da0a-4e06-9584-f7f57f89bb8d",
      "cell_type": "code",
      "source": "m4 = array([4,9,25])\n\n#sqrt : square root of the elements\n\nprint(sqrt(m4))",
      "metadata": {
        "trusted": true
      },
      "outputs": [
        {
          "name": "stdout",
          "text": "[2. 3. 5.]\n",
          "output_type": "stream"
        }
      ],
      "execution_count": 21
    },
    {
      "id": "7c0dd9c1-3c69-4f31-8729-49b17d16b3e7",
      "cell_type": "code",
      "source": "#std : calculates the standard deviation of given data along a specified axis.\n\nprint(\"Standard deviation : \",std(m4))",
      "metadata": {
        "trusted": true
      },
      "outputs": [
        {
          "name": "stdout",
          "text": "Standard deviation :  8.9566858950296\n",
          "output_type": "stream"
        }
      ],
      "execution_count": 23
    },
    {
      "id": "262ec7b4-5f13-4432-93ed-ef59059a5f49",
      "cell_type": "code",
      "source": "#vstack : arrange the array vertically\n\nprint(vstack((m1,m2)))",
      "metadata": {
        "trusted": true
      },
      "outputs": [
        {
          "name": "stdout",
          "text": "[[1 2]\n [3 4]\n [5 6]\n [7 8]]\n",
          "output_type": "stream"
        }
      ],
      "execution_count": 24
    },
    {
      "id": "42b79332-4295-482e-abe1-962aed19fdfd",
      "cell_type": "code",
      "source": "#hstack : arrange the array horizontally\n\nprint(hstack((m1,m2)))",
      "metadata": {
        "trusted": true
      },
      "outputs": [
        {
          "name": "stdout",
          "text": "[[1 2 5 6]\n [3 4 7 8]]\n",
          "output_type": "stream"
        }
      ],
      "execution_count": 25
    },
    {
      "id": "fc79c73d-5345-4cab-a0d1-3b37deeca5e2",
      "cell_type": "code",
      "source": "#arange : starting to 0 to 20 range with 2 gap\n\nprint(arange(0,20,2))",
      "metadata": {
        "trusted": true
      },
      "outputs": [
        {
          "name": "stdout",
          "text": "[ 0  2  4  6  8 10 12 14 16 18]\n",
          "output_type": "stream"
        }
      ],
      "execution_count": 26
    },
    {
      "id": "731e565f-2f61-4fe3-9cb5-031a4892dec7",
      "cell_type": "code",
      "source": "#same as arange but default in float\n\nprint(linspace(0,20,5))",
      "metadata": {
        "trusted": true
      },
      "outputs": [
        {
          "name": "stdout",
          "text": "[ 0.  5. 10. 15. 20.]\n",
          "output_type": "stream"
        }
      ],
      "execution_count": 27
    },
    {
      "id": "53054a3e-3d73-4d9b-bcb0-e04d7bbb0bf1",
      "cell_type": "code",
      "source": "#horizontal split \na = array([1,2,3,4,5,6,7,8])\n\nhnew = hsplit(a,2)\n\nprint(hnew)",
      "metadata": {
        "trusted": true
      },
      "outputs": [
        {
          "name": "stdout",
          "text": "[array([1, 2, 3, 4]), array([5, 6, 7, 8])]\n",
          "output_type": "stream"
        }
      ],
      "execution_count": 29
    },
    {
      "id": "87d5cb5f-e469-4df5-a0f2-a5ab4b3b4117",
      "cell_type": "code",
      "source": "",
      "metadata": {
        "trusted": true
      },
      "outputs": [],
      "execution_count": null
    }
  ]
}