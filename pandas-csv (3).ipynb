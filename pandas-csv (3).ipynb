{
 "cells": [
  {
   "cell_type": "code",
   "execution_count": 31,
   "id": "f2aef885",
   "metadata": {},
   "outputs": [],
   "source": [
    "import pandas as pd \n",
    "import matplotlib.pyplot as plt"
   ]
  },
  {
   "cell_type": "code",
   "execution_count": 5,
   "id": "e57e3648",
   "metadata": {},
   "outputs": [],
   "source": [
    "dataset={'student':['abc','deh','hjg'],'year':[2013,2014,2016]} #creating dataset with array"
   ]
  },
  {
   "cell_type": "code",
   "execution_count": 6,
   "id": "6413eb1c",
   "metadata": {},
   "outputs": [
    {
     "name": "stdout",
     "output_type": "stream",
     "text": [
      "  student  year\n",
      "0     abc  2013\n",
      "1     deh  2014\n",
      "2     hjg  2016\n"
     ]
    }
   ],
   "source": [
    "dt=pd.DataFrame(dataset) #print dataset in frame\n",
    "print(dt)"
   ]
  },
  {
   "cell_type": "code",
   "execution_count": 8,
   "id": "36fd5404",
   "metadata": {},
   "outputs": [
    {
     "name": "stdout",
     "output_type": "stream",
     "text": [
      "1.4.2\n"
     ]
    }
   ],
   "source": [
    "print(pd.__version__)"
   ]
  },
  {
   "cell_type": "code",
   "execution_count": 10,
   "id": "bdbddf93",
   "metadata": {},
   "outputs": [
    {
     "name": "stdout",
     "output_type": "stream",
     "text": [
      "0    10\n",
      "1    20\n",
      "2    30\n",
      "3    40\n",
      "dtype: int64\n",
      "40\n"
     ]
    }
   ],
   "source": [
    "a=[10,20,30,40]\n",
    "dt1=pd.Series(a)\n",
    "print(dt1)\n",
    "print(dt1[3])"
   ]
  },
  {
   "cell_type": "code",
   "execution_count": 11,
   "id": "7fcd0de8",
   "metadata": {},
   "outputs": [
    {
     "name": "stdout",
     "output_type": "stream",
     "text": [
      "m1    10\n",
      "m2    20\n",
      "m3    30\n",
      "m4    40\n",
      "dtype: int64\n",
      "20\n"
     ]
    }
   ],
   "source": [
    "dt2=pd.Series(a,index=['m1','m2','m3','m4'])\n",
    "print(dt2)\n",
    "print(dt2['m2'])"
   ]
  },
  {
   "cell_type": "code",
   "execution_count": 13,
   "id": "bb4ad4b7",
   "metadata": {},
   "outputs": [
    {
     "name": "stdout",
     "output_type": "stream",
     "text": [
      "maths      50\n",
      "science    60\n",
      "ss         70\n",
      "dtype: int64\n",
      "70\n"
     ]
    }
   ],
   "source": [
    "marks={'maths':50,'science':60,'ss':70}\n",
    "dt3=pd.Series(marks)\n",
    "print(dt3)\n",
    "print(dt3['ss'])"
   ]
  },
  {
   "cell_type": "code",
   "execution_count": 14,
   "id": "f6042f3d",
   "metadata": {},
   "outputs": [
    {
     "name": "stdout",
     "output_type": "stream",
     "text": [
      "maths    50\n",
      "ss       70\n",
      "dtype: int64\n"
     ]
    }
   ],
   "source": [
    "dt3=pd.Series(marks,index=['maths','ss'])\n",
    "print(dt3)"
   ]
  },
  {
   "cell_type": "code",
   "execution_count": 16,
   "id": "9a99c195",
   "metadata": {},
   "outputs": [
    {
     "name": "stdout",
     "output_type": "stream",
     "text": [
      "     CustomerID  Gender  Age  Annual Income (k$)  Spending Score (1-100)\n",
      "0             1    Male   19                  15                      39\n",
      "1             2    Male   21                  15                      81\n",
      "2             3  Female   20                  16                       6\n",
      "3             4  Female   23                  16                      77\n",
      "4             5  Female   31                  17                      40\n",
      "..          ...     ...  ...                 ...                     ...\n",
      "195         196  Female   35                 120                      79\n",
      "196         197  Female   45                 126                      28\n",
      "197         198    Male   32                 126                      74\n",
      "198         199    Male   32                 137                      18\n",
      "199         200    Male   30                 137                      83\n",
      "\n",
      "[200 rows x 5 columns]\n"
     ]
    }
   ],
   "source": [
    "read=pd.read_csv('customers.csv') #read the csv file\n",
    "print(read)"
   ]
  },
  {
   "cell_type": "code",
   "execution_count": 17,
   "id": "10af098d",
   "metadata": {},
   "outputs": [
    {
     "name": "stdout",
     "output_type": "stream",
     "text": [
      "60\n"
     ]
    }
   ],
   "source": [
    "print(pd.options.display.max_rows) #count the max rows"
   ]
  },
  {
   "cell_type": "code",
   "execution_count": 20,
   "id": "c0c13d97",
   "metadata": {},
   "outputs": [
    {
     "name": "stdout",
     "output_type": "stream",
     "text": [
      "     CustomerID  Gender  Age  Annual Income (k$)  Spending Score (1-100)\n",
      "0             1    Male   19                  15                      39\n",
      "1             2    Male   21                  15                      81\n",
      "2             3  Female   20                  16                       6\n",
      "3             4  Female   23                  16                      77\n",
      "4             5  Female   31                  17                      40\n",
      "..          ...     ...  ...                 ...                     ...\n",
      "195         196  Female   35                 120                      79\n",
      "196         197  Female   45                 126                      28\n",
      "197         198    Male   32                 126                      74\n",
      "198         199    Male   32                 137                      18\n",
      "199         200    Male   30                 137                      83\n",
      "\n",
      "[200 rows x 5 columns]\n"
     ]
    }
   ],
   "source": [
    "pd.options.display.max_rows=10 #print specified rows\n",
    "cust=pd.read_csv('customers.csv')\n",
    "print(cust)"
   ]
  },
  {
   "cell_type": "code",
   "execution_count": 22,
   "id": "3508b5ef",
   "metadata": {},
   "outputs": [
    {
     "name": "stdout",
     "output_type": "stream",
     "text": [
      "     CustomerID  Gender  Age  Annual Income (k$)  Spending Score (1-100)\n",
      "195         196  Female   35                 120                      79\n",
      "196         197  Female   45                 126                      28\n",
      "197         198    Male   32                 126                      74\n",
      "198         199    Male   32                 137                      18\n",
      "199         200    Male   30                 137                      83\n",
      "\n",
      "    CustomerID  Gender  Age  Annual Income (k$)  Spending Score (1-100)\n",
      "0           1    Male   19                  15                      39\n",
      "1           2    Male   21                  15                      81\n",
      "2           3  Female   20                  16                       6\n",
      "3           4  Female   23                  16                      77\n",
      "4           5  Female   31                  17                      40\n"
     ]
    }
   ],
   "source": [
    "print(cust.tail()) #from back\n",
    "print(\"\\n\",cust.head()) #from starting"
   ]
  },
  {
   "cell_type": "code",
   "execution_count": 23,
   "id": "dc5cc3b3",
   "metadata": {},
   "outputs": [
    {
     "name": "stdout",
     "output_type": "stream",
     "text": [
      "<class 'pandas.core.frame.DataFrame'>\n",
      "RangeIndex: 200 entries, 0 to 199\n",
      "Data columns (total 5 columns):\n",
      " #   Column                  Non-Null Count  Dtype \n",
      "---  ------                  --------------  ----- \n",
      " 0   CustomerID              200 non-null    int64 \n",
      " 1   Gender                  200 non-null    object\n",
      " 2   Age                     200 non-null    int64 \n",
      " 3   Annual Income (k$)      200 non-null    int64 \n",
      " 4   Spending Score (1-100)  200 non-null    int64 \n",
      "dtypes: int64(4), object(1)\n",
      "memory usage: 7.9+ KB\n",
      "None\n"
     ]
    }
   ],
   "source": [
    "print(cust.info()) #print the information "
   ]
  },
  {
   "cell_type": "code",
   "execution_count": 24,
   "id": "d3a88be7",
   "metadata": {},
   "outputs": [
    {
     "name": "stdout",
     "output_type": "stream",
     "text": [
      "     CustomerID  Gender  Age  Annual Income (k$)  Spending Score (1-100)\n",
      "0             1    Male   19                  15                      39\n",
      "1             2    Male   21                  15                      81\n",
      "2             3  Female   20                  16                       6\n",
      "3             4  Female   23                  16                      77\n",
      "4             5  Female   31                  17                      40\n",
      "..          ...     ...  ...                 ...                     ...\n",
      "195         196  Female   35                 120                      79\n",
      "196         197  Female   45                 126                      28\n",
      "197         198    Male   32                 126                      74\n",
      "198         199    Male   32                 137                      18\n",
      "199         200    Male   30                 137                      83\n",
      "\n",
      "[200 rows x 5 columns]\n"
     ]
    }
   ],
   "source": [
    "cust.dropna(inplace=True) #remove the null values in dataset\n",
    "print(cust)"
   ]
  },
  {
   "cell_type": "code",
   "execution_count": 25,
   "id": "4b4199c5",
   "metadata": {},
   "outputs": [
    {
     "name": "stdout",
     "output_type": "stream",
     "text": [
      "0        Male\n",
      "1        Male\n",
      "2      Female\n",
      "3      Female\n",
      "4      Female\n",
      "        ...  \n",
      "195    Female\n",
      "196    Female\n",
      "197      Male\n",
      "198      Male\n",
      "199      Male\n",
      "Name: Gender, Length: 200, dtype: object\n"
     ]
    }
   ],
   "source": [
    "new_cust=cust['Gender'].fillna('Female') \n",
    "print(new_cust)"
   ]
  },
  {
   "cell_type": "code",
   "execution_count": 26,
   "id": "bb8e779f",
   "metadata": {},
   "outputs": [
    {
     "name": "stdout",
     "output_type": "stream",
     "text": [
      "38.85\n"
     ]
    }
   ],
   "source": [
    "mean=read['Age'].mean() #mean of the specific column\n",
    "print(mean)"
   ]
  },
  {
   "cell_type": "code",
   "execution_count": 27,
   "id": "04bd285d",
   "metadata": {},
   "outputs": [
    {
     "name": "stdout",
     "output_type": "stream",
     "text": [
      "36.0\n"
     ]
    }
   ],
   "source": [
    "median=read['Age'].median() #median of specific column\n",
    "print(median) "
   ]
  },
  {
   "cell_type": "code",
   "execution_count": 28,
   "id": "b1aaf12b",
   "metadata": {},
   "outputs": [
    {
     "name": "stdout",
     "output_type": "stream",
     "text": [
      "     CustomerID  Gender  Age  Annual Income (k$)  Spending Score (1-100)\n",
      "0             1    Male   19                  15                      39\n",
      "1             2    Male   21                  15                      81\n",
      "2             3  Female   20                  16                       6\n",
      "3             4  Female   23                  16                      77\n",
      "4             5  Female   31                  17                      40\n",
      "..          ...     ...  ...                 ...                     ...\n",
      "195         196  Female   35                 120                      79\n",
      "196         197  Female   45                 126                      28\n",
      "197         198    Male   32                 126                      74\n",
      "198         199    Male   32                 137                      18\n",
      "199         200    Male   30                 137                      83\n",
      "\n",
      "[200 rows x 5 columns]\n",
      "\n",
      "    CustomerID  Gender  Age  Annual Income (k$)  Spending Score (1-100)\n",
      "0           1    Male   19                  15                      39\n",
      "1           2    Male   21                  15                      81\n",
      "2           3  Female   20                  16                       6\n",
      "3           4  Female   23                  16                      77\n",
      "4           5  Female   31                  17                      40\n",
      "5           6  Female   22                  17                      76\n",
      "6           7  Female   35                  18                       6\n",
      "7           8  Female   23                  18                      94\n",
      "8           9    Male   64                  19                       3\n",
      "9          10  Female   30                  19                      72\n"
     ]
    }
   ],
   "source": [
    "#1 load data and print top 10 column\n",
    "read=pd.read_csv('customers.csv') #read the csv file\n",
    "print(read)\n",
    "print(\"\\n\",cust.head(10)) \n"
   ]
  },
  {
   "cell_type": "code",
   "execution_count": 29,
   "id": "5d410d54",
   "metadata": {},
   "outputs": [
    {
     "name": "stdout",
     "output_type": "stream",
     "text": [
      "     CustomerID  Gender  Age  Annual Income (k$)  Spending Score (1-100)\n",
      "114         115  Female   18                  65                      48\n",
      "91           92    Male   18                  59                      41\n",
      "65           66    Male   18                  48                      59\n",
      "33           34    Male   18                  33                      92\n",
      "0             1    Male   19                  15                      39\n",
      "..          ...     ...  ...                 ...                     ...\n",
      "90           91  Female   68                  59                      55\n",
      "108         109    Male   68                  63                      43\n",
      "57           58    Male   69                  44                      46\n",
      "70           71    Male   70                  49                      55\n",
      "60           61    Male   70                  46                      56\n",
      "\n",
      "[200 rows x 5 columns]\n"
     ]
    }
   ],
   "source": [
    "#2 sort the data by age\n",
    "sorted=read.sort_values(by='Age')\n",
    "print(sorted)"
   ]
  },
  {
   "cell_type": "code",
   "execution_count": 30,
   "id": "9039ccb5",
   "metadata": {},
   "outputs": [
    {
     "name": "stdout",
     "output_type": "stream",
     "text": [
      "     CustomerID  Gender  Age  Annual Income (k$)  Spending Score (1-100)\n",
      "0             1    Male   19                  15                      39\n",
      "1             2    Male   21                  15                      81\n",
      "2             3  Female   20                  16                       6\n",
      "3             4  Female   23                  16                      77\n",
      "4             5  Female   31                  17                      40\n",
      "..          ...     ...  ...                 ...                     ...\n",
      "195         196  Female   35                 120                      79\n",
      "196         197  Female   45                 126                      28\n",
      "197         198    Male   32                 126                      74\n",
      "198         199    Male   32                 137                      18\n",
      "199         200    Male   30                 137                      83\n",
      "\n",
      "[200 rows x 5 columns]\n"
     ]
    }
   ],
   "source": [
    "#3 remove empty data from file\n",
    "read.dropna(inplace=True) #remove the null values in dataset\n",
    "print(read)"
   ]
  },
  {
   "cell_type": "code",
   "execution_count": null,
   "id": "83808b1d",
   "metadata": {},
   "outputs": [],
   "source": []
  }
 ],
 "metadata": {
  "kernelspec": {
   "display_name": "Python 3 (ipykernel)",
   "language": "python",
   "name": "python3"
  },
  "language_info": {
   "codemirror_mode": {
    "name": "ipython",
    "version": 3
   },
   "file_extension": ".py",
   "mimetype": "text/x-python",
   "name": "python",
   "nbconvert_exporter": "python",
   "pygments_lexer": "ipython3",
   "version": "3.9.12"
  }
 },
 "nbformat": 4,
 "nbformat_minor": 5
}
