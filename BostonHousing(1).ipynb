{
 "cells": [
  {
   "cell_type": "code",
   "execution_count": 4,
   "id": "dbbf70e9",
   "metadata": {},
   "outputs": [],
   "source": [
    "import numpy as np\n",
    "import pandas as pd\n",
    "import matplotlib.pyplot as plt\n",
    "from sklearn import linear_model\n"
   ]
  },
  {
   "cell_type": "code",
   "execution_count": 7,
   "id": "40ee5c8c",
   "metadata": {},
   "outputs": [],
   "source": [
    "boston=pd.read_csv(\"/home/student/BostonHousing.csv\")\n",
    "boston.dropna(inplace=True) #remove null values"
   ]
  },
  {
   "cell_type": "code",
   "execution_count": 8,
   "id": "04a44b83",
   "metadata": {},
   "outputs": [
    {
     "name": "stdout",
     "output_type": "stream",
     "text": [
      "<class 'pandas.core.frame.DataFrame'>\n",
      "RangeIndex: 506 entries, 0 to 505\n",
      "Data columns (total 14 columns):\n",
      " #   Column   Non-Null Count  Dtype  \n",
      "---  ------   --------------  -----  \n",
      " 0   crim     506 non-null    float64\n",
      " 1   zn       506 non-null    float64\n",
      " 2   indus    506 non-null    float64\n",
      " 3   chas     506 non-null    int64  \n",
      " 4   nox      506 non-null    float64\n",
      " 5   rm       506 non-null    float64\n",
      " 6   age      506 non-null    float64\n",
      " 7   dis      506 non-null    float64\n",
      " 8   rad      506 non-null    int64  \n",
      " 9   tax      506 non-null    int64  \n",
      " 10  ptratio  506 non-null    float64\n",
      " 11  b        506 non-null    float64\n",
      " 12  lstat    506 non-null    float64\n",
      " 13  medv     506 non-null    float64\n",
      "dtypes: float64(11), int64(3)\n",
      "memory usage: 55.5 KB\n"
     ]
    },
    {
     "data": {
      "text/html": [
       "<div>\n",
       "<style scoped>\n",
       "    .dataframe tbody tr th:only-of-type {\n",
       "        vertical-align: middle;\n",
       "    }\n",
       "\n",
       "    .dataframe tbody tr th {\n",
       "        vertical-align: top;\n",
       "    }\n",
       "\n",
       "    .dataframe thead th {\n",
       "        text-align: right;\n",
       "    }\n",
       "</style>\n",
       "<table border=\"1\" class=\"dataframe\">\n",
       "  <thead>\n",
       "    <tr style=\"text-align: right;\">\n",
       "      <th></th>\n",
       "      <th>crim</th>\n",
       "      <th>zn</th>\n",
       "      <th>indus</th>\n",
       "      <th>chas</th>\n",
       "      <th>nox</th>\n",
       "      <th>rm</th>\n",
       "      <th>age</th>\n",
       "      <th>dis</th>\n",
       "      <th>rad</th>\n",
       "      <th>tax</th>\n",
       "      <th>ptratio</th>\n",
       "      <th>b</th>\n",
       "      <th>lstat</th>\n",
       "      <th>medv</th>\n",
       "    </tr>\n",
       "  </thead>\n",
       "  <tbody>\n",
       "    <tr>\n",
       "      <th>count</th>\n",
       "      <td>506.000000</td>\n",
       "      <td>506.000000</td>\n",
       "      <td>506.000000</td>\n",
       "      <td>506.000000</td>\n",
       "      <td>506.000000</td>\n",
       "      <td>506.000000</td>\n",
       "      <td>506.000000</td>\n",
       "      <td>506.000000</td>\n",
       "      <td>506.000000</td>\n",
       "      <td>506.000000</td>\n",
       "      <td>506.000000</td>\n",
       "      <td>506.000000</td>\n",
       "      <td>506.000000</td>\n",
       "      <td>506.000000</td>\n",
       "    </tr>\n",
       "    <tr>\n",
       "      <th>mean</th>\n",
       "      <td>3.613524</td>\n",
       "      <td>11.363636</td>\n",
       "      <td>11.136779</td>\n",
       "      <td>0.069170</td>\n",
       "      <td>0.554695</td>\n",
       "      <td>6.284634</td>\n",
       "      <td>68.574901</td>\n",
       "      <td>3.795043</td>\n",
       "      <td>9.549407</td>\n",
       "      <td>408.237154</td>\n",
       "      <td>18.455534</td>\n",
       "      <td>356.674032</td>\n",
       "      <td>12.653063</td>\n",
       "      <td>22.532806</td>\n",
       "    </tr>\n",
       "    <tr>\n",
       "      <th>std</th>\n",
       "      <td>8.601545</td>\n",
       "      <td>23.322453</td>\n",
       "      <td>6.860353</td>\n",
       "      <td>0.253994</td>\n",
       "      <td>0.115878</td>\n",
       "      <td>0.702617</td>\n",
       "      <td>28.148861</td>\n",
       "      <td>2.105710</td>\n",
       "      <td>8.707259</td>\n",
       "      <td>168.537116</td>\n",
       "      <td>2.164946</td>\n",
       "      <td>91.294864</td>\n",
       "      <td>7.141062</td>\n",
       "      <td>9.197104</td>\n",
       "    </tr>\n",
       "    <tr>\n",
       "      <th>min</th>\n",
       "      <td>0.006320</td>\n",
       "      <td>0.000000</td>\n",
       "      <td>0.460000</td>\n",
       "      <td>0.000000</td>\n",
       "      <td>0.385000</td>\n",
       "      <td>3.561000</td>\n",
       "      <td>2.900000</td>\n",
       "      <td>1.129600</td>\n",
       "      <td>1.000000</td>\n",
       "      <td>187.000000</td>\n",
       "      <td>12.600000</td>\n",
       "      <td>0.320000</td>\n",
       "      <td>1.730000</td>\n",
       "      <td>5.000000</td>\n",
       "    </tr>\n",
       "    <tr>\n",
       "      <th>25%</th>\n",
       "      <td>0.082045</td>\n",
       "      <td>0.000000</td>\n",
       "      <td>5.190000</td>\n",
       "      <td>0.000000</td>\n",
       "      <td>0.449000</td>\n",
       "      <td>5.885500</td>\n",
       "      <td>45.025000</td>\n",
       "      <td>2.100175</td>\n",
       "      <td>4.000000</td>\n",
       "      <td>279.000000</td>\n",
       "      <td>17.400000</td>\n",
       "      <td>375.377500</td>\n",
       "      <td>6.950000</td>\n",
       "      <td>17.025000</td>\n",
       "    </tr>\n",
       "    <tr>\n",
       "      <th>50%</th>\n",
       "      <td>0.256510</td>\n",
       "      <td>0.000000</td>\n",
       "      <td>9.690000</td>\n",
       "      <td>0.000000</td>\n",
       "      <td>0.538000</td>\n",
       "      <td>6.208500</td>\n",
       "      <td>77.500000</td>\n",
       "      <td>3.207450</td>\n",
       "      <td>5.000000</td>\n",
       "      <td>330.000000</td>\n",
       "      <td>19.050000</td>\n",
       "      <td>391.440000</td>\n",
       "      <td>11.360000</td>\n",
       "      <td>21.200000</td>\n",
       "    </tr>\n",
       "    <tr>\n",
       "      <th>75%</th>\n",
       "      <td>3.677083</td>\n",
       "      <td>12.500000</td>\n",
       "      <td>18.100000</td>\n",
       "      <td>0.000000</td>\n",
       "      <td>0.624000</td>\n",
       "      <td>6.623500</td>\n",
       "      <td>94.075000</td>\n",
       "      <td>5.188425</td>\n",
       "      <td>24.000000</td>\n",
       "      <td>666.000000</td>\n",
       "      <td>20.200000</td>\n",
       "      <td>396.225000</td>\n",
       "      <td>16.955000</td>\n",
       "      <td>25.000000</td>\n",
       "    </tr>\n",
       "    <tr>\n",
       "      <th>max</th>\n",
       "      <td>88.976200</td>\n",
       "      <td>100.000000</td>\n",
       "      <td>27.740000</td>\n",
       "      <td>1.000000</td>\n",
       "      <td>0.871000</td>\n",
       "      <td>8.780000</td>\n",
       "      <td>100.000000</td>\n",
       "      <td>12.126500</td>\n",
       "      <td>24.000000</td>\n",
       "      <td>711.000000</td>\n",
       "      <td>22.000000</td>\n",
       "      <td>396.900000</td>\n",
       "      <td>37.970000</td>\n",
       "      <td>50.000000</td>\n",
       "    </tr>\n",
       "  </tbody>\n",
       "</table>\n",
       "</div>"
      ],
      "text/plain": [
       "             crim          zn       indus        chas         nox          rm  \\\n",
       "count  506.000000  506.000000  506.000000  506.000000  506.000000  506.000000   \n",
       "mean     3.613524   11.363636   11.136779    0.069170    0.554695    6.284634   \n",
       "std      8.601545   23.322453    6.860353    0.253994    0.115878    0.702617   \n",
       "min      0.006320    0.000000    0.460000    0.000000    0.385000    3.561000   \n",
       "25%      0.082045    0.000000    5.190000    0.000000    0.449000    5.885500   \n",
       "50%      0.256510    0.000000    9.690000    0.000000    0.538000    6.208500   \n",
       "75%      3.677083   12.500000   18.100000    0.000000    0.624000    6.623500   \n",
       "max     88.976200  100.000000   27.740000    1.000000    0.871000    8.780000   \n",
       "\n",
       "              age         dis         rad         tax     ptratio           b  \\\n",
       "count  506.000000  506.000000  506.000000  506.000000  506.000000  506.000000   \n",
       "mean    68.574901    3.795043    9.549407  408.237154   18.455534  356.674032   \n",
       "std     28.148861    2.105710    8.707259  168.537116    2.164946   91.294864   \n",
       "min      2.900000    1.129600    1.000000  187.000000   12.600000    0.320000   \n",
       "25%     45.025000    2.100175    4.000000  279.000000   17.400000  375.377500   \n",
       "50%     77.500000    3.207450    5.000000  330.000000   19.050000  391.440000   \n",
       "75%     94.075000    5.188425   24.000000  666.000000   20.200000  396.225000   \n",
       "max    100.000000   12.126500   24.000000  711.000000   22.000000  396.900000   \n",
       "\n",
       "            lstat        medv  \n",
       "count  506.000000  506.000000  \n",
       "mean    12.653063   22.532806  \n",
       "std      7.141062    9.197104  \n",
       "min      1.730000    5.000000  \n",
       "25%      6.950000   17.025000  \n",
       "50%     11.360000   21.200000  \n",
       "75%     16.955000   25.000000  \n",
       "max     37.970000   50.000000  "
      ]
     },
     "execution_count": 8,
     "metadata": {},
     "output_type": "execute_result"
    }
   ],
   "source": [
    "boston.info()\n",
    "boston.describe()"
   ]
  },
  {
   "cell_type": "code",
   "execution_count": 9,
   "id": "fff92e63",
   "metadata": {},
   "outputs": [],
   "source": [
    "x=boston[['crim','zn','indus','chas','nox','rm','age','dis','rad','tax','ptratio','lstat']]\n",
    "y=boston['medv']"
   ]
  },
  {
   "cell_type": "code",
   "execution_count": 10,
   "id": "7d9b2a16",
   "metadata": {},
   "outputs": [],
   "source": [
    "from sklearn.model_selection import train_test_split  #split the traing anf testing data\n",
    "from sklearn.linear_model import LinearRegression\n"
   ]
  },
  {
   "cell_type": "code",
   "execution_count": 11,
   "id": "71b013a6",
   "metadata": {},
   "outputs": [],
   "source": [
    "x_train,x_test,y_train,y_test=train_test_split(x,y,test_size=0.4) #40% data fro testing 60% data for traing"
   ]
  },
  {
   "cell_type": "code",
   "execution_count": 13,
   "id": "a8ae3bc8",
   "metadata": {},
   "outputs": [
    {
     "data": {
      "text/plain": [
       "LinearRegression()"
      ]
     },
     "execution_count": 13,
     "metadata": {},
     "output_type": "execute_result"
    }
   ],
   "source": [
    "reg=LinearRegression()\n",
    "reg.fit(x_train,y_train)"
   ]
  },
  {
   "cell_type": "code",
   "execution_count": 15,
   "id": "b153a9c4",
   "metadata": {},
   "outputs": [
    {
     "data": {
      "text/plain": [
       "array([23.64581385, 31.92089608, 12.8708151 , 17.16791216, 22.37376973,\n",
       "       12.37735001, 29.56728654, 16.3557148 , 28.6178801 , 18.99698601,\n",
       "       22.68719349, 27.13893615, 24.75989722, 24.76925417, 36.77469248,\n",
       "       18.7996551 , 35.1806375 , 27.423304  , 15.08032781, 18.27670732,\n",
       "       27.87109154, 31.7244335 , 20.9088736 , 29.93628091, 18.03201591,\n",
       "       21.99038659, 20.28467339, 23.40058829, 27.86049173, 15.57244402,\n",
       "       27.92589983, 11.78483063, 30.72137347, 17.22764545, 20.39036881,\n",
       "       30.27095188, 19.20701552, 39.8730102 , 18.0875617 , 12.27836575,\n",
       "       22.79701926, 19.96701485, 16.50614393, 23.41293366, 18.38963876,\n",
       "       25.01614151, 45.31481605, 19.50700465,  8.10978692, 24.77731793,\n",
       "       14.74326662, 20.08195766, 25.31087618, 12.16279192, 19.83837058,\n",
       "       27.0955851 , 16.13698512, 19.87383191, 19.84774565, 33.19942905,\n",
       "       28.57388312, 17.79499291, 36.56447297, 23.66643783, 18.99518477,\n",
       "       38.59424444, 20.7732632 , 23.1902928 , 27.27101813, 13.67659578,\n",
       "       15.93321443, 24.87707826, 16.73748729, 19.01378618, 23.15389874,\n",
       "       33.9688892 , 27.3176909 , 19.42666293, 22.41283159, 26.3231793 ,\n",
       "       34.77575025, 13.57040519, 24.32610686, 12.22345997,  5.0126041 ,\n",
       "       14.20650289, 33.59531272, 24.78116649, 33.30987797, 29.6677926 ,\n",
       "        9.27979128, 32.94887281, 24.6928149 , 13.55439166, 24.97306814,\n",
       "       18.6174091 , 32.89641553, 23.87472063, 19.80628603, 17.05748437,\n",
       "       27.55679998, 29.01131762, 27.96936911, 31.98714856, 33.14768347,\n",
       "       23.48148087, 16.99947446, 17.25612278, 22.82964273,  6.3075576 ,\n",
       "       23.30054309, 20.96752425, 14.82355432, 19.93917693, 26.6291442 ,\n",
       "       13.00163604, 20.55694471, 26.28722604, 20.99763631, 20.45336263,\n",
       "       32.34679157, 28.74820316, 23.53932814, 44.54612612,  9.04769037,\n",
       "       18.10775079, 16.02905405, 24.01326298,  6.09348341, 18.89903255,\n",
       "       23.5631857 , 16.97630162, 25.91574423,  9.28761638, 34.92440991,\n",
       "       14.40882069, 23.13097544, 14.35047247, 25.42989933, 19.95048443,\n",
       "       33.85140267, 22.76544801,  7.67560204, 36.07787707, 22.4985681 ,\n",
       "       18.75467757, 25.55192079, 33.67336146, 29.92999055, 19.05664586,\n",
       "       21.7043007 , 22.7652446 , 24.52579864, 26.75638733, 19.6290262 ,\n",
       "       29.59724418, 22.60225446, 23.59383729, 19.53029764, 21.20548815,\n",
       "       23.4582992 , 20.70938053,  7.8834264 , 35.14340514, 25.03084964,\n",
       "       40.88878438, 15.28001007, 17.76954708, 15.8768542 , 31.91767303,\n",
       "       20.92783514, 19.4402583 , 28.46408555, 19.59946057, 34.0593117 ,\n",
       "       39.61984034, 21.4745734 , 27.94152397, 23.96265559, 16.04842032,\n",
       "       17.52396629, 16.6906947 , 39.12268544, 43.18994904, 12.42068035,\n",
       "       41.41472512, 17.87132527, 16.97295151, 22.27706415, 16.88745704,\n",
       "       14.00637573, 17.78164697, 19.09187203, 38.12950495, 28.46790834,\n",
       "       12.89612116, 31.80533853, 21.91259492, 25.85708952, 29.26200637,\n",
       "       39.74667703,  8.25057293, 21.16771291])"
      ]
     },
     "execution_count": 15,
     "metadata": {},
     "output_type": "execute_result"
    }
   ],
   "source": [
    "reg.predict(x_test)"
   ]
  },
  {
   "cell_type": "code",
   "execution_count": 16,
   "id": "b1ad1cd2",
   "metadata": {},
   "outputs": [
    {
     "data": {
      "text/plain": [
       "array([-1.16763291e-01,  4.50576724e-02,  7.18506700e-02,  2.36180451e+00,\n",
       "       -2.16769206e+01,  4.50842833e+00, -3.81594769e-03, -1.62425410e+00,\n",
       "        3.02899530e-01, -1.28951530e-02, -1.00479292e+00, -4.74459504e-01])"
      ]
     },
     "execution_count": 16,
     "metadata": {},
     "output_type": "execute_result"
    }
   ],
   "source": [
    "reg.coef_"
   ]
  },
  {
   "cell_type": "code",
   "execution_count": 18,
   "id": "2c7c0093",
   "metadata": {},
   "outputs": [
    {
     "data": {
      "text/plain": [
       "38.8529893022402"
      ]
     },
     "execution_count": 18,
     "metadata": {},
     "output_type": "execute_result"
    }
   ],
   "source": [
    "reg.intercept_"
   ]
  },
  {
   "cell_type": "code",
   "execution_count": 20,
   "id": "06202588",
   "metadata": {},
   "outputs": [
    {
     "name": "stdout",
     "output_type": "stream",
     "text": [
      "[38.80628399 38.87101237 38.88172957 39.79771111 30.18222105 40.65636063\n",
      " 38.85146292 38.20328766 38.97414911 38.84783124 38.45107213 38.6632055 ]\n"
     ]
    }
   ],
   "source": [
    "out=reg.coef_*0.4+reg.intercept_\n",
    "print(out)"
   ]
  },
  {
   "cell_type": "code",
   "execution_count": null,
   "id": "1722bbc9",
   "metadata": {},
   "outputs": [],
   "source": []
  }
 ],
 "metadata": {
  "kernelspec": {
   "display_name": "Python 3 (ipykernel)",
   "language": "python",
   "name": "python3"
  },
  "language_info": {
   "codemirror_mode": {
    "name": "ipython",
    "version": 3
   },
   "file_extension": ".py",
   "mimetype": "text/x-python",
   "name": "python",
   "nbconvert_exporter": "python",
   "pygments_lexer": "ipython3",
   "version": "3.9.12"
  }
 },
 "nbformat": 4,
 "nbformat_minor": 5
}
